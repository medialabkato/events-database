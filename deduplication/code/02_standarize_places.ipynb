{
 "cells": [
  {
   "cell_type": "code",
   "execution_count": null,
   "metadata": {},
   "outputs": [],
   "source": [
    "import requests\n",
    "from urllib.parse import quote_plus\n",
    "import pandas as pd\n",
    "from sklearn.externals import joblib\n",
    "from time import sleep\n",
    "import numpy as np"
   ]
  },
  {
   "cell_type": "code",
   "execution_count": null,
   "metadata": {},
   "outputs": [],
   "source": [
    "def get_place(token, place_name, circle, latitude, longitude):\n",
    "    \n",
    "    place_name = quote_plus(place_name)\n",
    "    \n",
    "    fields = 'formatted_address,geometry,id,name,permanently_closed,place_id,types'\n",
    "    url = \"https://maps.googleapis.com/maps/api/place/findplacefromtext/json?input=%s&inputtype=textquery&language=pl&fields=%s&locationbias=circle:%i@%s,%s&key=%s\" % (place_name, fields, circle, latitude, longitude, token)\n",
    "    \n",
    "    resp = requests.get(url)\n",
    "    data = resp.json()\n",
    "    \n",
    "    return data"
   ]
  },
  {
   "cell_type": "markdown",
   "metadata": {},
   "source": [
    "##### Deserializacja danych"
   ]
  },
  {
   "cell_type": "code",
   "execution_count": null,
   "metadata": {},
   "outputs": [],
   "source": [
    "fb = joblib.load('../pickles/fb.pkl')\n",
    "ss = joblib.load('../pickles/ss.pkl')\n",
    "cjg = joblib.load('../pickles/cjg.pkl')\n",
    "sk = joblib.load('../pickles/sk.pkl')\n",
    "um = joblib.load('../pickles/um.pkl')\n",
    "concatenation = joblib.load('../pickles/concatenation.pkl')"
   ]
  },
  {
   "cell_type": "markdown",
   "metadata": {},
   "source": [
    "##### Ustawienie tokena i obszaru przeszukiwania"
   ]
  },
  {
   "cell_type": "code",
   "execution_count": null,
   "metadata": {},
   "outputs": [],
   "source": [
    "token = '...'\n",
    "circle = 50000\n",
    "latitude = 50.270908\n",
    "longitude = 19.039993"
   ]
  },
  {
   "cell_type": "markdown",
   "metadata": {},
   "source": [
    "##### Wygenerowanie unikalnych miejsc wydarzeń i adresów"
   ]
  },
  {
   "cell_type": "code",
   "execution_count": null,
   "metadata": {},
   "outputs": [],
   "source": [
    "place_dict = concatenation[['place_name', 'street']].drop_duplicates().to_dict(orient='record')"
   ]
  },
  {
   "cell_type": "markdown",
   "metadata": {},
   "source": [
    "###### Pobranie danych z api google"
   ]
  },
  {
   "cell_type": "code",
   "execution_count": null,
   "metadata": {},
   "outputs": [],
   "source": [
    "google_data = []\n",
    "i = 0\n",
    "\n",
    "for row in place_dict:\n",
    "    \n",
    "    place = row['place_name'] + ' ' + row['street']\n",
    "    g_data = get_place(token, place, circle, latitude, longitude)\n",
    "    google_data.append({'place_name': row['place_name'], 'street': row['street'], 'google_data' : g_data})\n",
    "    i += 1\n",
    "       \n",
    "    print(i)\n",
    "    sleep(1)"
   ]
  },
  {
   "cell_type": "markdown",
   "metadata": {},
   "source": [
    "##### Serializacja danych z google"
   ]
  },
  {
   "cell_type": "code",
   "execution_count": null,
   "metadata": {},
   "outputs": [],
   "source": [
    "#joblib.dump(google_data, '../pickles/google_places.pkl')\n",
    "google_data = joblib.load('../pickles/google_places.pkl')"
   ]
  },
  {
   "cell_type": "markdown",
   "metadata": {},
   "source": [
    "##### Spłaszczenie słownika miejsc"
   ]
  },
  {
   "cell_type": "code",
   "execution_count": null,
   "metadata": {},
   "outputs": [],
   "source": [
    "google_places = []\n",
    "i = 0\n",
    "\n",
    "for t in google_data:\n",
    "    place_name = t['place_name']\n",
    "    street = t['street']\n",
    "    if t['google_data']['candidates']:\n",
    "        if 'formatted_address' in t['google_data']['candidates'][0].keys():\n",
    "            formatted_address = t['google_data']['candidates'][0]['formatted_address']\n",
    "        id = t['google_data']['candidates'][0]['id']\n",
    "        place_id = t['google_data']['candidates'][0]['place_id']\n",
    "        name = t['google_data']['candidates'][0]['name']\n",
    "        if 'types' in t['google_data']['candidates'][0].keys():\n",
    "            types = t['google_data']['candidates'][0]['types']\n",
    "        lat = t['google_data']['candidates'][0]['geometry']['location']['lat']\n",
    "        lng = t['google_data']['candidates'][0]['geometry']['location']['lng']\n",
    "        \n",
    "        google_places.append({'place_name': place_name,\n",
    "                 'street': street,\n",
    "                 'formatted_address': formatted_address,\n",
    "                 'id': id,\n",
    "                 'place_id': place_id,\n",
    "                 'name': name,\n",
    "                 'types': types,\n",
    "                 'lat': lat,\n",
    "                 'lng': lng})\n",
    "    \n",
    "google_places = pd.DataFrame(google_places)"
   ]
  },
  {
   "cell_type": "markdown",
   "metadata": {},
   "source": [
    "##### Zrzut słownika miejsc do pliu"
   ]
  },
  {
   "cell_type": "code",
   "execution_count": null,
   "metadata": {},
   "outputs": [],
   "source": [
    "google_places[['id','place_id','place_name','name','street','formatted_address','lat','lng','types']].to_csv('../output/google_places.csv')"
   ]
  },
  {
   "cell_type": "markdown",
   "metadata": {},
   "source": [
    "##### Standaryzacja miejsc eventów"
   ]
  },
  {
   "cell_type": "code",
   "execution_count": null,
   "metadata": {},
   "outputs": [],
   "source": [
    "concatenation_std = concatenation.merge(google_places[['name','place_name', 'street', 'formatted_address','lat','lng','types']],left_on=['place_name', 'street'], right_on=['place_name', 'street'], how='left')\n",
    "concatenation_std['place_name'] = np.where(concatenation_std[\"name_y\"].notnull(), concatenation_std[\"name_y\"], concatenation_std[\"place_name\"] )\n",
    "concatenation_std['street'] = np.where(concatenation_std[\"formatted_address\"].notnull(), concatenation_std[\"formatted_address\"], concatenation_std[\"street\"] )\n",
    "concatenation_std = concatenation_std.drop(columns=['name_y','formatted_address'])\n",
    "concatenation_std.rename(columns={'name_x': 'name'}, inplace=True)"
   ]
  },
  {
   "cell_type": "markdown",
   "metadata": {},
   "source": [
    "##### Uwzględnienie zmian lokalizacji"
   ]
  },
  {
   "cell_type": "code",
   "execution_count": null,
   "metadata": {},
   "outputs": [],
   "source": [
    "locations = pd.read_csv('../data/zmiany lokalizacji.csv')\n",
    "locations['change_date'] = pd.to_datetime(locations['change_date'])"
   ]
  },
  {
   "cell_type": "code",
   "execution_count": null,
   "metadata": {},
   "outputs": [],
   "source": [
    "concatenation_std = concatenation_std.merge(locations, left_on='place_name', right_on='place', how='left')\n",
    "concatenation_std = concatenation_std[~((concatenation_std['start_time'] < concatenation_std['change_date']) & (concatenation_std['street_old'].isnull()))]\n",
    "concatenation_std['change_date'] = concatenation_std['change_date'].fillna(concatenation_std['start_time'])\n",
    "concatenation_std['place_name'] = np.where(concatenation_std['old_name'].notnull() , concatenation_std['old_name'], concatenation_std['place_name'])\n",
    "concatenation_std['street'] = np.where(concatenation_std['start_time'] < concatenation_std['change_date'], concatenation_std['street_old'], concatenation_std['street'])\n",
    "concatenation_std['lat'] = np.where(concatenation_std['start_time'] < concatenation_std['change_date'], concatenation_std['lat_old'], concatenation_std['lat'])\n",
    "concatenation_std['lng'] = np.where(concatenation_std['start_time'] < concatenation_std['change_date'], concatenation_std['lng_old'], concatenation_std['lng'])\n",
    "concatenation_std.drop(columns = locations.columns, inplace=True)"
   ]
  },
  {
   "cell_type": "markdown",
   "metadata": {},
   "source": [
    "##### Serializacja danych"
   ]
  },
  {
   "cell_type": "code",
   "execution_count": null,
   "metadata": {},
   "outputs": [],
   "source": [
    "joblib.dump(concatenation_std, '../pickles/concatenation.pkl')"
   ]
  }
 ],
 "metadata": {
  "kernelspec": {
   "display_name": "Python 3",
   "language": "python",
   "name": "python3"
  },
  "language_info": {
   "codemirror_mode": {
    "name": "ipython",
    "version": 3
   },
   "file_extension": ".py",
   "mimetype": "text/x-python",
   "name": "python",
   "nbconvert_exporter": "python",
   "pygments_lexer": "ipython3",
   "version": "3.7.0"
  }
 },
 "nbformat": 4,
 "nbformat_minor": 2
}
