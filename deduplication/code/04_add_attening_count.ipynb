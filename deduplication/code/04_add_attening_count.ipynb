{
 "cells": [
  {
   "cell_type": "code",
   "execution_count": null,
   "metadata": {},
   "outputs": [],
   "source": [
    "import pandas as pd\n",
    "from sklearn.externals import joblib\n",
    "import numpy as np"
   ]
  },
  {
   "cell_type": "markdown",
   "metadata": {},
   "source": [
    "##### Załadowanie danych"
   ]
  },
  {
   "cell_type": "code",
   "execution_count": null,
   "metadata": {},
   "outputs": [],
   "source": [
    "data = joblib.load('../pickles/events_database.pkl')\n",
    "fb_raw_full = pd.read_csv('../data/fb_app_db.events_clean_2018.csv')\n",
    "ss_raw = pd.read_csv('../data/silesiaspace.csv')"
   ]
  },
  {
   "cell_type": "markdown",
   "metadata": {},
   "source": [
    "##### Podział geolokat z Silesia Space"
   ]
  },
  {
   "cell_type": "code",
   "execution_count": null,
   "metadata": {},
   "outputs": [],
   "source": [
    "ss_raw['latitude'] = ss_raw['geo'].str.rpartition(', ')[0]\n",
    "ss_raw['longitude'] = ss_raw['geo'].str.rpartition(', ')[2]"
   ]
  },
  {
   "cell_type": "markdown",
   "metadata": {},
   "source": [
    "##### Dołączenie informacji o liczbie uczestników"
   ]
  },
  {
   "cell_type": "code",
   "execution_count": null,
   "metadata": {},
   "outputs": [],
   "source": [
    "fb_raw_full['facebook_id'] = fb_raw_full['facebook_id'].astype(str)\n",
    "t = data.merge(fb_raw_full[['facebook_id','attending_count']], how='left')"
   ]
  },
  {
   "cell_type": "markdown",
   "metadata": {},
   "source": [
    "##### Dołączenie geolokat"
   ]
  },
  {
   "cell_type": "code",
   "execution_count": null,
   "metadata": {},
   "outputs": [],
   "source": [
    "ss_raw['id'] = ss_raw['id'].astype(str)\n",
    "t = t.merge(ss_raw[['id','latitude','longitude']], left_on = 'id_sk', right_on='id', how='left')\n",
    "t['lng_std'] = np.where(t['lng_std'].notnull(), t['lng_std'], t['longitude'])\n",
    "t['lat_std'] = np.where(t['lat_std'].notnull(), t['lat_std'], t['latitude'])\n",
    "t.drop(columns=['longitude','latitude','id_y'], inplace=True)"
   ]
  },
  {
   "cell_type": "markdown",
   "metadata": {},
   "source": [
    "##### Zapisanie do pliku"
   ]
  },
  {
   "cell_type": "code",
   "execution_count": null,
   "metadata": {},
   "outputs": [],
   "source": [
    "t.to_csv('../output/events_database.csv')\n",
    "joblib.dump(t, '../pickles/events_database.pkl')"
   ]
  }
 ],
 "metadata": {
  "kernelspec": {
   "display_name": "Python 3",
   "language": "python",
   "name": "python3"
  },
  "language_info": {
   "codemirror_mode": {
    "name": "ipython",
    "version": 3
   },
   "file_extension": ".py",
   "mimetype": "text/x-python",
   "name": "python",
   "nbconvert_exporter": "python",
   "pygments_lexer": "ipython3",
   "version": "3.7.0"
  }
 },
 "nbformat": 4,
 "nbformat_minor": 2
}
