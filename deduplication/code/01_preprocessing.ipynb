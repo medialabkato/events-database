{
 "cells": [
  {
   "cell_type": "code",
   "execution_count": null,
   "metadata": {},
   "outputs": [],
   "source": [
    "import pandas as pd\n",
    "from sklearn.externals import joblib"
   ]
  },
  {
   "cell_type": "code",
   "execution_count": null,
   "metadata": {},
   "outputs": [],
   "source": [
    "def standarize_df(df, src):\n",
    "    \n",
    "    std_df = pd.DataFrame()\n",
    "    std_df['id'] = df.index\n",
    "    \n",
    "    if 'facebook_id' in df.columns:\n",
    "        std_df['facebook_id'] = df['facebook_id'].astype(str)\n",
    "    \n",
    "    if 'owner_name' in df.columns:\n",
    "        std_df['place_name'] = df['place_name'].fillna(df['owner_name']).fillna('').apply(remove_special_chars)\n",
    "    else:   \n",
    "        std_df['place_name'] = df['place_name'].fillna('').apply(remove_special_chars)\n",
    "        \n",
    "    std_df['street'] = df['street'].fillna('').replace('ul.','').replace('Katowice','').apply(remove_special_chars)\n",
    "    std_df['start_time'] = pd.to_datetime(df['start_time'])\n",
    "    std_df['name'] = df['name'].fillna('').apply(remove_special_chars)\n",
    "    std_df['description'] = df['description'].fillna('').apply(remove_special_chars)\n",
    "    std_df['src'] = src\n",
    "    std_df[src] = std_df['id'].astype(str)\n",
    "    std_df = std_df.sort_values('id', ascending=False).groupby(['name', 'place_name', 'start_time']).head(1)\n",
    "    return std_df"
   ]
  },
  {
   "cell_type": "code",
   "execution_count": null,
   "metadata": {},
   "outputs": [],
   "source": [
    "def remove_special_chars(text):\n",
    "    return text.replace(',','').replace('\\'','').replace('\\\"','').strip()"
   ]
  },
  {
   "cell_type": "code",
   "execution_count": null,
   "metadata": {},
   "outputs": [],
   "source": [
    "def fill_street(df):\n",
    "    places = df[df['street'] != ''][['place_name','street']]\n",
    "    places = places.groupby(['place_name'])[['street']].apply(pd.DataFrame.mode).reset_index(drop=False)\n",
    "    places = places[places['level_1'] == 0].drop(columns='level_1')\n",
    "    return df['street'].where(df['street'] != '', df['place_name'].map(places.set_index('place_name')['street'])).fillna('')"
   ]
  },
  {
   "cell_type": "markdown",
   "metadata": {},
   "source": [
    "##### Ładowanie danych"
   ]
  },
  {
   "cell_type": "code",
   "execution_count": null,
   "metadata": {},
   "outputs": [],
   "source": [
    "fb_raw = pd.read_csv('../data/fb.csv')\n",
    "ss_raw = pd.read_csv('../data/silesiaspace.csv')\n",
    "cjg_raw = pd.read_csv('../data/cojestgrane.csv')\n",
    "sk_raw = pd.read_csv('../data/silesiakultura.csv')\n",
    "um_raw = pd.read_csv('../data/ultramaryna.csv')"
   ]
  },
  {
   "cell_type": "markdown",
   "metadata": {},
   "source": [
    "##### Standaryzacja danych"
   ]
  },
  {
   "cell_type": "code",
   "execution_count": null,
   "metadata": {},
   "outputs": [],
   "source": [
    "fb = standarize_df(fb_raw,'fb')\n",
    "ss = standarize_df(ss_raw,'ss')\n",
    "cjg = standarize_df(cjg_raw,'cjg')\n",
    "sk = standarize_df(sk_raw,'sk')\n",
    "um = standarize_df(um_raw,'um')"
   ]
  },
  {
   "cell_type": "markdown",
   "metadata": {},
   "source": [
    "##### Konkatenacja danych i imputacja adresów"
   ]
  },
  {
   "cell_type": "code",
   "execution_count": null,
   "metadata": {},
   "outputs": [],
   "source": [
    "concatenation = pd.concat([fb, ss, cjg, sk, um], ignore_index=True, sort=False)\n",
    "concatenation['street'] = fill_street(concatenation)"
   ]
  },
  {
   "cell_type": "markdown",
   "metadata": {},
   "source": [
    "##### Serializacja danych"
   ]
  },
  {
   "cell_type": "code",
   "execution_count": null,
   "metadata": {},
   "outputs": [],
   "source": [
    "joblib.dump(fb, '../pickles/fb.pkl')\n",
    "joblib.dump(ss, '../pickles/ss.pkl')\n",
    "joblib.dump(cjg, '../pickles/cjg.pkl')\n",
    "joblib.dump(sk, '../pickles/sk.pkl')\n",
    "joblib.dump(um, '../pickles/um.pkl')\n",
    "joblib.dump(concatenation, '../pickles/concatenation.pkl')"
   ]
  }
 ],
 "metadata": {
  "kernelspec": {
   "display_name": "Python 3",
   "language": "python",
   "name": "python3"
  },
  "language_info": {
   "codemirror_mode": {
    "name": "ipython",
    "version": 3
   },
   "file_extension": ".py",
   "mimetype": "text/x-python",
   "name": "python",
   "nbconvert_exporter": "python",
   "pygments_lexer": "ipython3",
   "version": "3.7.0"
  }
 },
 "nbformat": 4,
 "nbformat_minor": 2
}
